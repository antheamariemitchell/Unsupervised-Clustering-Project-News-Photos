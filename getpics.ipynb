{
 "cells": [
  {
   "cell_type": "code",
   "execution_count": null,
   "metadata": {},
   "outputs": [],
   "source": [
    "import pandas as pd\n",
    "import requests\n",
    "\n",
    "# read in csv file using pandas\n",
    "df = pd.read_csv('filename.csv')\n",
    "\n",
    "# iterate over each row in the 'Image' column\n",
    "for index, row in df.iterrows():\n",
    "    image_url = row['Image']\n",
    "    \n",
    "    # get the image data from the url\n",
    "    image_data = requests.get(image_url).content\n",
    "    \n",
    "    # save the image data to a file\n",
    "    with open(f'image_{index}.jpg', 'wb') as handler:\n",
    "        handler.write(image_data)\n"
   ]
  },
  {
   "cell_type": "code",
   "execution_count": 6,
   "metadata": {},
   "outputs": [
    {
     "name": "stdout",
     "output_type": "stream",
     "text": [
      "\u001b[34mBBC_Images\u001b[m\u001b[m/         \u001b[34mNYT_Images\u001b[m\u001b[m/         \u001b[31mchromedriver\u001b[m\u001b[m*\n",
      "Fox.py              Test.py             project notes.xlsx\n",
      "\u001b[34mFox_Images\u001b[m\u001b[m/         Webscrape.py        test space.py\n"
     ]
    }
   ],
   "source": [
    "ls"
   ]
  }
 ],
 "metadata": {
  "kernelspec": {
   "display_name": "base",
   "language": "python",
   "name": "python3"
  },
  "language_info": {
   "codemirror_mode": {
    "name": "ipython",
    "version": 3
   },
   "file_extension": ".py",
   "mimetype": "text/x-python",
   "name": "python",
   "nbconvert_exporter": "python",
   "pygments_lexer": "ipython3",
   "version": "3.9.13"
  },
  "orig_nbformat": 4
 },
 "nbformat": 4,
 "nbformat_minor": 2
}
